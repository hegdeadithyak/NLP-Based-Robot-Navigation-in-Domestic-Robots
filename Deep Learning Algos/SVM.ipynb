{
  "cells": [
    {
      "cell_type": "markdown",
      "metadata": {
        "id": "fCjHiqzJxItA"
      },
      "source": [
        "# Mode"
      ]
    },
    {
      "cell_type": "markdown",
      "metadata": {
        "id": "HDSOcaDYqOoz"
      },
      "source": [
        "# Import Module's\n"
      ]
    },
    {
      "cell_type": "code",
      "execution_count": 1,
      "metadata": {
        "id": "Nk_kehRmqBfw"
      },
      "outputs": [],
      "source": [
        "import numpy as np\n",
        "\n",
        "import tensorflow as tf\n",
        "import tensorflow_datasets as tfds"
      ]
    },
    {
      "cell_type": "markdown",
      "metadata": {
        "id": "YqqmGSZLiB3h"
      },
      "source": [
        "# Plot Function"
      ]
    },
    {
      "cell_type": "code",
      "execution_count": 2,
      "metadata": {
        "id": "nGgJ2jPjqN02"
      },
      "outputs": [],
      "source": [
        "import matplotlib.pyplot as plt\n",
        "\n",
        "def plot_graph(history,metric):\n",
        "  plt.plot(history.history[metric])\n",
        "  plt.plot(history.history[\"val_\"+metric])\n",
        "  plt.xlabel(\"Epochs\")\n",
        "  plt.ylabel(metric)\n",
        "  plt.legend([metric,\"val_\"+metric])"
      ]
    },
    {
      "cell_type": "markdown",
      "metadata": {
        "id": "LvRWBuUgiB3i"
      },
      "source": [
        "Bring The Dataset"
      ]
    },
    {
      "cell_type": "code",
      "execution_count": 3,
      "metadata": {
        "colab": {
          "base_uri": "https://localhost:8080/"
        },
        "id": "pwrpH_Dwq_dB",
        "outputId": "55b24f9c-9a7a-4d20-b22a-514819f07646"
      },
      "outputs": [
        {
          "name": "stdout",
          "output_type": "stream",
          "text": [
            "                      INPUT                   OUTPUT\n",
            "0         more to table one                      One\n",
            "1         move to table one                      One\n",
            "2             whew to table             Repeat Again\n",
            "3         more to cable one                      One\n",
            "4            move to table              Repeat Again\n",
            "5         more to table one                      One\n",
            "6         move to table one                      One\n",
            "7          hmu to table one                      One\n",
            "8           me to table one                      One\n",
            "9         whew to table one                      One\n",
            "10        mood to table one                      One\n",
            "11        move to table one                      One\n",
            "12      more to tell me one                      One\n",
            "13        need to table one                      One\n",
            "14       moved to table one                      One\n",
            "15        more to table one                      One\n",
            "16       moved to table one                      One\n",
            "17       moved to table one                      One\n",
            "18     move to table one it                      One\n",
            "19       more to table when                      One\n",
            "20      move to pay and one                      One\n",
            "21      more good table one                      One\n",
            "22                table one                      One\n",
            "23        more to table one                      One\n",
            "24        more to table one                      One\n",
            "25        more to table one                      One\n",
            "26        no good table one                      One\n",
            "27   move to pay up and one                      One\n",
            "28        move to table one                      One\n",
            "29        more to table one                      One\n",
            "30        when the baby one                      One\n",
            "31                maybe one   more who table one man\n",
            "32           table one moon                      One\n",
            "33          one day be move                      One\n",
            "34              one the one                      One\n",
            "35        what to table one                      One\n",
            "36        what the baby one                      One\n",
            "37       mood to didn't one                      One\n",
            "38   more who table one man                      One\n",
            "39        how to be able to                      Two\n",
            "40         notre dame to do                      Two\n",
            "41         hold the baby to                      Two\n",
            "42                  able to                      Two\n",
            "43       move to be able to                      Two\n",
            "44         me to be able to                      Two\n",
            "45         go to be able to                      Two\n",
            "46     he go to play be too                      Two\n",
            "47    hi good to be able to                      Two\n",
            "48              hey bill to                      Two\n",
            "49          they've been to                      Two\n",
            "50                table two                      Two\n",
            "51         go to be able to                      Two\n",
            "52                   hey to                      Two\n"
          ]
        }
      ],
      "source": [
        "import pandas as pd\n",
        "from sklearn.model_selection import train_test_split\n",
        "\n",
        "data = pd.read_csv('/content/Table Servant Data - Sheet1 (1).csv')\n",
        "print(data)\n",
        "data.columns = ['INPUT', 'OUTPUT']\n",
        "X = data['INPUT']\n",
        "y = data['OUTPUT']\n",
        "\n",
        "X_train, X_test, y_train, y_test = train_test_split(X, y, test_size=0.2, random_state=42)\n",
        "# train_dataset.element_spec"
      ]
    },
    {
      "cell_type": "code",
      "execution_count": 4,
      "metadata": {
        "colab": {
          "base_uri": "https://localhost:8080/"
        },
        "id": "FHxe4fBVrJjO",
        "outputId": "db79f6d1-0555-406f-b8ea-4d5c1e7ae2c4"
      },
      "outputs": [
        {
          "name": "stdout",
          "output_type": "stream",
          "text": [
            "Accuracy: 0.8181818181818182\n"
          ]
        }
      ],
      "source": [
        "import pandas as pd\n",
        "from sklearn.model_selection import train_test_split\n",
        "from sklearn.svm import SVC\n",
        "from sklearn.feature_extraction.text import TfidfVectorizer\n",
        "from sklearn.pipeline import make_pipeline\n",
        "from sklearn.metrics import accuracy_score\n",
        "\n",
        "\n",
        "model = make_pipeline(\n",
        "    TfidfVectorizer(),\n",
        "    SVC(kernel='linear', C=1.0)\n",
        ")\n",
        "\n",
        "model.fit(X_train, y_train)\n",
        "\n",
        "y_pred = model.predict(X_test)\n",
        "\n",
        "accuracy = accuracy_score(y_test, y_pred)\n",
        "print(\"Accuracy:\", accuracy)\n"
      ]
    },
    {
      "cell_type": "code",
      "execution_count": 11,
      "metadata": {
        "colab": {
          "base_uri": "https://localhost:8080/"
        },
        "id": "b1RWL6Xyk4uQ",
        "outputId": "5d2a4796-ad3a-4d92-eda4-c74189d13af0"
      },
      "outputs": [
        {
          "name": "stdout",
          "output_type": "stream",
          "text": [
            "Predictions: ['One']\n"
          ]
        }
      ],
      "source": [
        "new_data = [\"\"]\n",
        "\n",
        "predictions = model.predict(new_data)\n",
        "\n",
        "# Print the predictions\n",
        "print(\"Predictions:\", predictions)\n"
      ]
    }
  ],
  "metadata": {
    "accelerator": "GPU",
    "colab": {
      "gpuType": "T4",
      "provenance": []
    },
    "kernelspec": {
      "display_name": "Python 3",
      "name": "python3"
    },
    "language_info": {
      "name": "python"
    }
  },
  "nbformat": 4,
  "nbformat_minor": 0
}
