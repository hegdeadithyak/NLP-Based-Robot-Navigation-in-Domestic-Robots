{
  "nbformat": 4,
  "nbformat_minor": 0,
  "metadata": {
    "colab": {
      "provenance": []
    },
    "kernelspec": {
      "name": "python3",
      "display_name": "Python 3"
    },
    "language_info": {
      "name": "python"
    }
  },
  "cells": [
    {
      "cell_type": "code",
      "execution_count": 1,
      "metadata": {
        "id": "CqAVCz2z3F2R"
      },
      "outputs": [],
      "source": [
        "import pandas as pd\n",
        "\n",
        "df = pd.read_csv(\"/content/Table Servant Data - Sheet1 (3).csv\")"
      ]
    },
    {
      "cell_type": "code",
      "source": [
        "print(df.shape)\n",
        "df.head()"
      ],
      "metadata": {
        "colab": {
          "base_uri": "https://localhost:8080/",
          "height": 224
        },
        "id": "Mce36ZX63eeb",
        "outputId": "81c4277a-b5e4-45e0-c902-18f4fd4f7348"
      },
      "execution_count": 2,
      "outputs": [
        {
          "output_type": "stream",
          "name": "stdout",
          "text": [
            "(57, 2)\n"
          ]
        },
        {
          "output_type": "execute_result",
          "data": {
            "text/plain": [
              "                 INPUT               OUTPUT\n",
              "0    more to table one                  One\n",
              "1    move to table one                  One\n",
              "2        whew to table         Repeat Again\n",
              "3    more to cable one                  One\n",
              "4       move to table          Repeat Again"
            ],
            "text/html": [
              "\n",
              "  <div id=\"df-67b8e504-cb28-4a8c-bf99-deed3772d664\" class=\"colab-df-container\">\n",
              "    <div>\n",
              "<style scoped>\n",
              "    .dataframe tbody tr th:only-of-type {\n",
              "        vertical-align: middle;\n",
              "    }\n",
              "\n",
              "    .dataframe tbody tr th {\n",
              "        vertical-align: top;\n",
              "    }\n",
              "\n",
              "    .dataframe thead th {\n",
              "        text-align: right;\n",
              "    }\n",
              "</style>\n",
              "<table border=\"1\" class=\"dataframe\">\n",
              "  <thead>\n",
              "    <tr style=\"text-align: right;\">\n",
              "      <th></th>\n",
              "      <th>INPUT</th>\n",
              "      <th>OUTPUT</th>\n",
              "    </tr>\n",
              "  </thead>\n",
              "  <tbody>\n",
              "    <tr>\n",
              "      <th>0</th>\n",
              "      <td>more to table one</td>\n",
              "      <td>One</td>\n",
              "    </tr>\n",
              "    <tr>\n",
              "      <th>1</th>\n",
              "      <td>move to table one</td>\n",
              "      <td>One</td>\n",
              "    </tr>\n",
              "    <tr>\n",
              "      <th>2</th>\n",
              "      <td>whew to table</td>\n",
              "      <td>Repeat Again</td>\n",
              "    </tr>\n",
              "    <tr>\n",
              "      <th>3</th>\n",
              "      <td>more to cable one</td>\n",
              "      <td>One</td>\n",
              "    </tr>\n",
              "    <tr>\n",
              "      <th>4</th>\n",
              "      <td>move to table</td>\n",
              "      <td>Repeat Again</td>\n",
              "    </tr>\n",
              "  </tbody>\n",
              "</table>\n",
              "</div>\n",
              "    <div class=\"colab-df-buttons\">\n",
              "\n",
              "  <div class=\"colab-df-container\">\n",
              "    <button class=\"colab-df-convert\" onclick=\"convertToInteractive('df-67b8e504-cb28-4a8c-bf99-deed3772d664')\"\n",
              "            title=\"Convert this dataframe to an interactive table.\"\n",
              "            style=\"display:none;\">\n",
              "\n",
              "  <svg xmlns=\"http://www.w3.org/2000/svg\" height=\"24px\" viewBox=\"0 -960 960 960\">\n",
              "    <path d=\"M120-120v-720h720v720H120Zm60-500h600v-160H180v160Zm220 220h160v-160H400v160Zm0 220h160v-160H400v160ZM180-400h160v-160H180v160Zm440 0h160v-160H620v160ZM180-180h160v-160H180v160Zm440 0h160v-160H620v160Z\"/>\n",
              "  </svg>\n",
              "    </button>\n",
              "\n",
              "  <style>\n",
              "    .colab-df-container {\n",
              "      display:flex;\n",
              "      gap: 12px;\n",
              "    }\n",
              "\n",
              "    .colab-df-convert {\n",
              "      background-color: #E8F0FE;\n",
              "      border: none;\n",
              "      border-radius: 50%;\n",
              "      cursor: pointer;\n",
              "      display: none;\n",
              "      fill: #1967D2;\n",
              "      height: 32px;\n",
              "      padding: 0 0 0 0;\n",
              "      width: 32px;\n",
              "    }\n",
              "\n",
              "    .colab-df-convert:hover {\n",
              "      background-color: #E2EBFA;\n",
              "      box-shadow: 0px 1px 2px rgba(60, 64, 67, 0.3), 0px 1px 3px 1px rgba(60, 64, 67, 0.15);\n",
              "      fill: #174EA6;\n",
              "    }\n",
              "\n",
              "    .colab-df-buttons div {\n",
              "      margin-bottom: 4px;\n",
              "    }\n",
              "\n",
              "    [theme=dark] .colab-df-convert {\n",
              "      background-color: #3B4455;\n",
              "      fill: #D2E3FC;\n",
              "    }\n",
              "\n",
              "    [theme=dark] .colab-df-convert:hover {\n",
              "      background-color: #434B5C;\n",
              "      box-shadow: 0px 1px 3px 1px rgba(0, 0, 0, 0.15);\n",
              "      filter: drop-shadow(0px 1px 2px rgba(0, 0, 0, 0.3));\n",
              "      fill: #FFFFFF;\n",
              "    }\n",
              "  </style>\n",
              "\n",
              "    <script>\n",
              "      const buttonEl =\n",
              "        document.querySelector('#df-67b8e504-cb28-4a8c-bf99-deed3772d664 button.colab-df-convert');\n",
              "      buttonEl.style.display =\n",
              "        google.colab.kernel.accessAllowed ? 'block' : 'none';\n",
              "\n",
              "      async function convertToInteractive(key) {\n",
              "        const element = document.querySelector('#df-67b8e504-cb28-4a8c-bf99-deed3772d664');\n",
              "        const dataTable =\n",
              "          await google.colab.kernel.invokeFunction('convertToInteractive',\n",
              "                                                    [key], {});\n",
              "        if (!dataTable) return;\n",
              "\n",
              "        const docLinkHtml = 'Like what you see? Visit the ' +\n",
              "          '<a target=\"_blank\" href=https://colab.research.google.com/notebooks/data_table.ipynb>data table notebook</a>'\n",
              "          + ' to learn more about interactive tables.';\n",
              "        element.innerHTML = '';\n",
              "        dataTable['output_type'] = 'display_data';\n",
              "        await google.colab.output.renderOutput(dataTable, element);\n",
              "        const docLink = document.createElement('div');\n",
              "        docLink.innerHTML = docLinkHtml;\n",
              "        element.appendChild(docLink);\n",
              "      }\n",
              "    </script>\n",
              "  </div>\n",
              "\n",
              "\n",
              "<div id=\"df-fad19c4e-5b63-45fd-b624-155aaa445bd7\">\n",
              "  <button class=\"colab-df-quickchart\" onclick=\"quickchart('df-fad19c4e-5b63-45fd-b624-155aaa445bd7')\"\n",
              "            title=\"Suggest charts\"\n",
              "            style=\"display:none;\">\n",
              "\n",
              "<svg xmlns=\"http://www.w3.org/2000/svg\" height=\"24px\"viewBox=\"0 0 24 24\"\n",
              "     width=\"24px\">\n",
              "    <g>\n",
              "        <path d=\"M19 3H5c-1.1 0-2 .9-2 2v14c0 1.1.9 2 2 2h14c1.1 0 2-.9 2-2V5c0-1.1-.9-2-2-2zM9 17H7v-7h2v7zm4 0h-2V7h2v10zm4 0h-2v-4h2v4z\"/>\n",
              "    </g>\n",
              "</svg>\n",
              "  </button>\n",
              "\n",
              "<style>\n",
              "  .colab-df-quickchart {\n",
              "      --bg-color: #E8F0FE;\n",
              "      --fill-color: #1967D2;\n",
              "      --hover-bg-color: #E2EBFA;\n",
              "      --hover-fill-color: #174EA6;\n",
              "      --disabled-fill-color: #AAA;\n",
              "      --disabled-bg-color: #DDD;\n",
              "  }\n",
              "\n",
              "  [theme=dark] .colab-df-quickchart {\n",
              "      --bg-color: #3B4455;\n",
              "      --fill-color: #D2E3FC;\n",
              "      --hover-bg-color: #434B5C;\n",
              "      --hover-fill-color: #FFFFFF;\n",
              "      --disabled-bg-color: #3B4455;\n",
              "      --disabled-fill-color: #666;\n",
              "  }\n",
              "\n",
              "  .colab-df-quickchart {\n",
              "    background-color: var(--bg-color);\n",
              "    border: none;\n",
              "    border-radius: 50%;\n",
              "    cursor: pointer;\n",
              "    display: none;\n",
              "    fill: var(--fill-color);\n",
              "    height: 32px;\n",
              "    padding: 0;\n",
              "    width: 32px;\n",
              "  }\n",
              "\n",
              "  .colab-df-quickchart:hover {\n",
              "    background-color: var(--hover-bg-color);\n",
              "    box-shadow: 0 1px 2px rgba(60, 64, 67, 0.3), 0 1px 3px 1px rgba(60, 64, 67, 0.15);\n",
              "    fill: var(--button-hover-fill-color);\n",
              "  }\n",
              "\n",
              "  .colab-df-quickchart-complete:disabled,\n",
              "  .colab-df-quickchart-complete:disabled:hover {\n",
              "    background-color: var(--disabled-bg-color);\n",
              "    fill: var(--disabled-fill-color);\n",
              "    box-shadow: none;\n",
              "  }\n",
              "\n",
              "  .colab-df-spinner {\n",
              "    border: 2px solid var(--fill-color);\n",
              "    border-color: transparent;\n",
              "    border-bottom-color: var(--fill-color);\n",
              "    animation:\n",
              "      spin 1s steps(1) infinite;\n",
              "  }\n",
              "\n",
              "  @keyframes spin {\n",
              "    0% {\n",
              "      border-color: transparent;\n",
              "      border-bottom-color: var(--fill-color);\n",
              "      border-left-color: var(--fill-color);\n",
              "    }\n",
              "    20% {\n",
              "      border-color: transparent;\n",
              "      border-left-color: var(--fill-color);\n",
              "      border-top-color: var(--fill-color);\n",
              "    }\n",
              "    30% {\n",
              "      border-color: transparent;\n",
              "      border-left-color: var(--fill-color);\n",
              "      border-top-color: var(--fill-color);\n",
              "      border-right-color: var(--fill-color);\n",
              "    }\n",
              "    40% {\n",
              "      border-color: transparent;\n",
              "      border-right-color: var(--fill-color);\n",
              "      border-top-color: var(--fill-color);\n",
              "    }\n",
              "    60% {\n",
              "      border-color: transparent;\n",
              "      border-right-color: var(--fill-color);\n",
              "    }\n",
              "    80% {\n",
              "      border-color: transparent;\n",
              "      border-right-color: var(--fill-color);\n",
              "      border-bottom-color: var(--fill-color);\n",
              "    }\n",
              "    90% {\n",
              "      border-color: transparent;\n",
              "      border-bottom-color: var(--fill-color);\n",
              "    }\n",
              "  }\n",
              "</style>\n",
              "\n",
              "  <script>\n",
              "    async function quickchart(key) {\n",
              "      const quickchartButtonEl =\n",
              "        document.querySelector('#' + key + ' button');\n",
              "      quickchartButtonEl.disabled = true;  // To prevent multiple clicks.\n",
              "      quickchartButtonEl.classList.add('colab-df-spinner');\n",
              "      try {\n",
              "        const charts = await google.colab.kernel.invokeFunction(\n",
              "            'suggestCharts', [key], {});\n",
              "      } catch (error) {\n",
              "        console.error('Error during call to suggestCharts:', error);\n",
              "      }\n",
              "      quickchartButtonEl.classList.remove('colab-df-spinner');\n",
              "      quickchartButtonEl.classList.add('colab-df-quickchart-complete');\n",
              "    }\n",
              "    (() => {\n",
              "      let quickchartButtonEl =\n",
              "        document.querySelector('#df-fad19c4e-5b63-45fd-b624-155aaa445bd7 button');\n",
              "      quickchartButtonEl.style.display =\n",
              "        google.colab.kernel.accessAllowed ? 'block' : 'none';\n",
              "    })();\n",
              "  </script>\n",
              "</div>\n",
              "\n",
              "    </div>\n",
              "  </div>\n"
            ],
            "application/vnd.google.colaboratory.intrinsic+json": {
              "type": "dataframe",
              "variable_name": "df",
              "summary": "{\n  \"name\": \"df\",\n  \"rows\": 57,\n  \"fields\": [\n    {\n      \"column\": \"               INPUT\",\n      \"properties\": {\n        \"dtype\": \"string\",\n        \"num_unique_values\": 44,\n        \"samples\": [\n          \"hey bill to\",\n          \"what to table one\",\n          \"what the baby one\"\n        ],\n        \"semantic_type\": \"\",\n        \"description\": \"\"\n      }\n    },\n    {\n      \"column\": \"              OUTPUT\",\n      \"properties\": {\n        \"dtype\": \"category\",\n        \"num_unique_values\": 3,\n        \"samples\": [\n          \"One\",\n          \"Repeat Again\",\n          \"Two\"\n        ],\n        \"semantic_type\": \"\",\n        \"description\": \"\"\n      }\n    }\n  ]\n}"
            }
          },
          "metadata": {},
          "execution_count": 2
        }
      ]
    },
    {
      "cell_type": "code",
      "source": [
        "df = df.drop_duplicates()"
      ],
      "metadata": {
        "id": "8lH5FUce3fmY"
      },
      "execution_count": 3,
      "outputs": []
    },
    {
      "cell_type": "code",
      "source": [
        "df.shape"
      ],
      "metadata": {
        "colab": {
          "base_uri": "https://localhost:8080/"
        },
        "id": "Tr4ZSBfe3pqY",
        "outputId": "2db2790a-b9f1-4d05-ff2d-57fdae7b43fb"
      },
      "execution_count": 4,
      "outputs": [
        {
          "output_type": "execute_result",
          "data": {
            "text/plain": [
              "(44, 2)"
            ]
          },
          "metadata": {},
          "execution_count": 4
        }
      ]
    },
    {
      "cell_type": "code",
      "source": [
        "X = df[\"               INPUT\"]\n",
        "y = df[\"              OUTPUT\"]\n",
        "\n",
        "print(y.unique())\n",
        "from sklearn.preprocessing import LabelEncoder\n",
        "import numpy as np\n",
        "y = np.array(y)\n",
        "\n",
        "encoder = LabelEncoder()\n",
        "y_encoded = encoder.fit_transform(y)"
      ],
      "metadata": {
        "id": "oKgQJZweGOko",
        "colab": {
          "base_uri": "https://localhost:8080/"
        },
        "outputId": "96220e36-df55-46e7-cfb2-ad67737bda5d"
      },
      "execution_count": 5,
      "outputs": [
        {
          "output_type": "stream",
          "name": "stdout",
          "text": [
            "['One' 'Repeat Again' 'Two']\n"
          ]
        }
      ]
    },
    {
      "cell_type": "code",
      "source": [
        "y_encoded"
      ],
      "metadata": {
        "colab": {
          "base_uri": "https://localhost:8080/"
        },
        "id": "kHxesVXtLNvg",
        "outputId": "744943c9-ee15-4956-80e8-6a89ac3f4f02"
      },
      "execution_count": 6,
      "outputs": [
        {
          "output_type": "execute_result",
          "data": {
            "text/plain": [
              "array([0, 0, 1, 0, 1, 0, 0, 0, 0, 0, 0, 0, 0, 0, 0, 0, 0, 0, 0, 0, 0, 0,\n",
              "       0, 0, 0, 0, 0, 0, 2, 2, 2, 2, 2, 2, 2, 2, 2, 2, 2, 2, 2, 2, 2, 2])"
            ]
          },
          "metadata": {},
          "execution_count": 6
        }
      ]
    },
    {
      "cell_type": "code",
      "source": [
        "from keras.preprocessing.text import Tokenizer\n",
        "from keras.preprocessing.sequence import pad_sequences\n",
        "\n",
        "max_words = 2000\n",
        "max_length = 20\n",
        "\n",
        "tokenizer = Tokenizer(num_words=max_words)\n",
        "tokenizer.fit_on_texts(X)\n",
        "sequences = tokenizer.texts_to_sequences(X)\n",
        "X = pad_sequences(sequences, maxlen=max_length)"
      ],
      "metadata": {
        "id": "nxQlgXmu3q0f"
      },
      "execution_count": 7,
      "outputs": []
    },
    {
      "cell_type": "code",
      "source": [
        "from sklearn.preprocessing import OneHotEncoder\n",
        "\n",
        "encoder = OneHotEncoder()\n",
        "y_one_hot = encoder.fit_transform(y_encoded.reshape(-1, 1)).toarray()\n"
      ],
      "metadata": {
        "id": "NGu481UFOCqp"
      },
      "execution_count": 8,
      "outputs": []
    },
    {
      "cell_type": "code",
      "source": [
        "from tensorflow.keras.models import Sequential\n",
        "from tensorflow.keras.layers import Dense, Embedding, LSTM,GRU\n",
        "\n",
        "model = Sequential()\n",
        "model.add(Embedding(max_words, 32, input_length=max_length))\n",
        "model.add(LSTM(64, return_sequences=True))\n",
        "model.add(LSTM(128))\n",
        "model.add(Dense(128, activation='linear'))\n",
        "model.add(Dense(256, activation='linear'))\n",
        "model.add(Dense(512, activation='linear'))\n",
        "model.add(Dense(128, activation='linear'))\n",
        "model.add(Dense(3, activation='softmax'))\n",
        "\n",
        "model.compile(loss='sparse_categorical_crossentropy', optimizer='adam', metrics=['accuracy'])\n",
        "\n",
        "model.summary()\n"
      ],
      "metadata": {
        "colab": {
          "base_uri": "https://localhost:8080/"
        },
        "id": "5nE8R-UIGL8j",
        "outputId": "920e0696-0d9c-43ad-dab3-1ae5486096bf"
      },
      "execution_count": 11,
      "outputs": [
        {
          "output_type": "stream",
          "name": "stdout",
          "text": [
            "Model: \"sequential_2\"\n",
            "_________________________________________________________________\n",
            " Layer (type)                Output Shape              Param #   \n",
            "=================================================================\n",
            " embedding_2 (Embedding)     (None, 20, 32)            64000     \n",
            "                                                                 \n",
            " lstm_2 (LSTM)               (None, 20, 64)            24832     \n",
            "                                                                 \n",
            " lstm_3 (LSTM)               (None, 128)               98816     \n",
            "                                                                 \n",
            " dense_5 (Dense)             (None, 128)               16512     \n",
            "                                                                 \n",
            " dense_6 (Dense)             (None, 256)               33024     \n",
            "                                                                 \n",
            " dense_7 (Dense)             (None, 512)               131584    \n",
            "                                                                 \n",
            " dense_8 (Dense)             (None, 128)               65664     \n",
            "                                                                 \n",
            " dense_9 (Dense)             (None, 3)                 387       \n",
            "                                                                 \n",
            "=================================================================\n",
            "Total params: 434819 (1.66 MB)\n",
            "Trainable params: 434819 (1.66 MB)\n",
            "Non-trainable params: 0 (0.00 Byte)\n",
            "_________________________________________________________________\n"
          ]
        }
      ]
    },
    {
      "cell_type": "code",
      "source": [
        "model = Sequential()\n",
        "model.add(Embedding(max_words, 32, input_length=max_length))\n",
        "model.add(GRU(64, return_sequences=True))\n",
        "model.add(GRU(128))\n",
        "model.add(Dense(128, activation='linear'))\n",
        "model.add(Dense(256, activation='linear'))\n",
        "model.add(Dense(512, activation='linear'))\n",
        "model.add(Dense(128, activation='linear'))\n",
        "model.add(Dense(3, activation='softmax'))\n",
        "\n",
        "model.compile(loss='sparse_categorical_crossentropy', optimizer='adam', metrics=['accuracy'])\n",
        "\n",
        "model.summary()\n"
      ],
      "metadata": {
        "colab": {
          "base_uri": "https://localhost:8080/"
        },
        "id": "ya2oGC3Oh91f",
        "outputId": "4fb90f92-7cfc-4935-86c4-7b479996932d"
      },
      "execution_count": 12,
      "outputs": [
        {
          "output_type": "stream",
          "name": "stdout",
          "text": [
            "Model: \"sequential_3\"\n",
            "_________________________________________________________________\n",
            " Layer (type)                Output Shape              Param #   \n",
            "=================================================================\n",
            " embedding_3 (Embedding)     (None, 20, 32)            64000     \n",
            "                                                                 \n",
            " gru (GRU)                   (None, 20, 64)            18816     \n",
            "                                                                 \n",
            " gru_1 (GRU)                 (None, 128)               74496     \n",
            "                                                                 \n",
            " dense_10 (Dense)            (None, 128)               16512     \n",
            "                                                                 \n",
            " dense_11 (Dense)            (None, 256)               33024     \n",
            "                                                                 \n",
            " dense_12 (Dense)            (None, 512)               131584    \n",
            "                                                                 \n",
            " dense_13 (Dense)            (None, 128)               65664     \n",
            "                                                                 \n",
            " dense_14 (Dense)            (None, 3)                 387       \n",
            "                                                                 \n",
            "=================================================================\n",
            "Total params: 404483 (1.54 MB)\n",
            "Trainable params: 404483 (1.54 MB)\n",
            "Non-trainable params: 0 (0.00 Byte)\n",
            "_________________________________________________________________\n"
          ]
        }
      ]
    },
    {
      "cell_type": "code",
      "source": [
        "# X = X.toarray()\n",
        "hist = model.fit(X, y_encoded, validation_split=0.2, epochs=100, batch_size=20)"
      ],
      "metadata": {
        "colab": {
          "base_uri": "https://localhost:8080/"
        },
        "id": "dWFAwAbQGhqe",
        "outputId": "41bc16d1-0df7-4bc6-e0c2-52b0ea6a7354"
      },
      "execution_count": 19,
      "outputs": [
        {
          "output_type": "stream",
          "name": "stdout",
          "text": [
            "Epoch 1/100\n",
            "2/2 [==============================] - 0s 135ms/step - loss: 0.4427 - accuracy: 0.8571 - val_loss: 1.3847 - val_accuracy: 0.1111\n",
            "Epoch 2/100\n",
            "2/2 [==============================] - 0s 60ms/step - loss: 0.3056 - accuracy: 0.9143 - val_loss: 0.8093 - val_accuracy: 0.7778\n",
            "Epoch 3/100\n",
            "2/2 [==============================] - 0s 88ms/step - loss: 0.2123 - accuracy: 0.9429 - val_loss: 0.5928 - val_accuracy: 0.8889\n",
            "Epoch 4/100\n",
            "2/2 [==============================] - 0s 74ms/step - loss: 0.1528 - accuracy: 0.9429 - val_loss: 1.3054 - val_accuracy: 0.7778\n",
            "Epoch 5/100\n",
            "2/2 [==============================] - 0s 61ms/step - loss: 0.1110 - accuracy: 0.9429 - val_loss: 2.2180 - val_accuracy: 0.6667\n",
            "Epoch 6/100\n",
            "2/2 [==============================] - 0s 76ms/step - loss: 0.0966 - accuracy: 0.9429 - val_loss: 2.5438 - val_accuracy: 0.6667\n",
            "Epoch 7/100\n",
            "2/2 [==============================] - 0s 76ms/step - loss: 0.0849 - accuracy: 0.9429 - val_loss: 3.2538 - val_accuracy: 0.6667\n",
            "Epoch 8/100\n",
            "2/2 [==============================] - 0s 67ms/step - loss: 0.0763 - accuracy: 0.9429 - val_loss: 5.0709 - val_accuracy: 0.5556\n",
            "Epoch 9/100\n",
            "2/2 [==============================] - 0s 70ms/step - loss: 0.1769 - accuracy: 0.9429 - val_loss: 4.2021 - val_accuracy: 0.7778\n",
            "Epoch 10/100\n",
            "2/2 [==============================] - 0s 80ms/step - loss: 0.1009 - accuracy: 0.9429 - val_loss: 2.3703 - val_accuracy: 0.7778\n",
            "Epoch 11/100\n",
            "2/2 [==============================] - 0s 64ms/step - loss: 0.1826 - accuracy: 0.9429 - val_loss: 1.7884 - val_accuracy: 0.7778\n",
            "Epoch 12/100\n",
            "2/2 [==============================] - 0s 73ms/step - loss: 0.1635 - accuracy: 0.9429 - val_loss: 1.8700 - val_accuracy: 0.7778\n",
            "Epoch 13/100\n",
            "2/2 [==============================] - 0s 76ms/step - loss: 0.0991 - accuracy: 0.9429 - val_loss: 2.2794 - val_accuracy: 0.5556\n",
            "Epoch 14/100\n",
            "2/2 [==============================] - 0s 77ms/step - loss: 0.1021 - accuracy: 1.0000 - val_loss: 2.3211 - val_accuracy: 0.6667\n",
            "Epoch 15/100\n",
            "2/2 [==============================] - 0s 67ms/step - loss: 0.0748 - accuracy: 0.9429 - val_loss: 2.3769 - val_accuracy: 0.6667\n",
            "Epoch 16/100\n",
            "2/2 [==============================] - 0s 67ms/step - loss: 0.0558 - accuracy: 0.9429 - val_loss: 2.6871 - val_accuracy: 0.6667\n",
            "Epoch 17/100\n",
            "2/2 [==============================] - 0s 64ms/step - loss: 0.0473 - accuracy: 0.9429 - val_loss: 3.1515 - val_accuracy: 0.6667\n",
            "Epoch 18/100\n",
            "2/2 [==============================] - 0s 67ms/step - loss: 0.0323 - accuracy: 1.0000 - val_loss: 3.7763 - val_accuracy: 0.6667\n",
            "Epoch 19/100\n",
            "2/2 [==============================] - 0s 63ms/step - loss: 0.0313 - accuracy: 1.0000 - val_loss: 4.2719 - val_accuracy: 0.5556\n",
            "Epoch 20/100\n",
            "2/2 [==============================] - 0s 78ms/step - loss: 0.0453 - accuracy: 1.0000 - val_loss: 3.9829 - val_accuracy: 0.6667\n",
            "Epoch 21/100\n",
            "2/2 [==============================] - 0s 78ms/step - loss: 0.0197 - accuracy: 1.0000 - val_loss: 3.4867 - val_accuracy: 0.6667\n",
            "Epoch 22/100\n",
            "2/2 [==============================] - 0s 75ms/step - loss: 0.0177 - accuracy: 1.0000 - val_loss: 3.1732 - val_accuracy: 0.6667\n",
            "Epoch 23/100\n",
            "2/2 [==============================] - 0s 64ms/step - loss: 0.0173 - accuracy: 1.0000 - val_loss: 3.1406 - val_accuracy: 0.6667\n",
            "Epoch 24/100\n",
            "2/2 [==============================] - 0s 77ms/step - loss: 0.0107 - accuracy: 1.0000 - val_loss: 3.2334 - val_accuracy: 0.5556\n",
            "Epoch 25/100\n",
            "2/2 [==============================] - 0s 71ms/step - loss: 0.0079 - accuracy: 1.0000 - val_loss: 3.5868 - val_accuracy: 0.5556\n",
            "Epoch 26/100\n",
            "2/2 [==============================] - 0s 63ms/step - loss: 0.0039 - accuracy: 1.0000 - val_loss: 4.0361 - val_accuracy: 0.4444\n",
            "Epoch 27/100\n",
            "2/2 [==============================] - 0s 74ms/step - loss: 0.0029 - accuracy: 1.0000 - val_loss: 4.4951 - val_accuracy: 0.3333\n",
            "Epoch 28/100\n",
            "2/2 [==============================] - 0s 80ms/step - loss: 0.0036 - accuracy: 1.0000 - val_loss: 4.8710 - val_accuracy: 0.3333\n",
            "Epoch 29/100\n",
            "2/2 [==============================] - 0s 66ms/step - loss: 0.0036 - accuracy: 1.0000 - val_loss: 5.0451 - val_accuracy: 0.3333\n",
            "Epoch 30/100\n",
            "2/2 [==============================] - 0s 67ms/step - loss: 0.0022 - accuracy: 1.0000 - val_loss: 5.1379 - val_accuracy: 0.3333\n",
            "Epoch 31/100\n",
            "2/2 [==============================] - 0s 78ms/step - loss: 0.0015 - accuracy: 1.0000 - val_loss: 5.1559 - val_accuracy: 0.3333\n",
            "Epoch 32/100\n",
            "2/2 [==============================] - 0s 66ms/step - loss: 7.4731e-04 - accuracy: 1.0000 - val_loss: 5.1684 - val_accuracy: 0.3333\n",
            "Epoch 33/100\n",
            "2/2 [==============================] - 0s 76ms/step - loss: 4.6873e-04 - accuracy: 1.0000 - val_loss: 5.1874 - val_accuracy: 0.3333\n",
            "Epoch 34/100\n",
            "2/2 [==============================] - 0s 113ms/step - loss: 3.6742e-04 - accuracy: 1.0000 - val_loss: 5.2166 - val_accuracy: 0.4444\n",
            "Epoch 35/100\n",
            "2/2 [==============================] - 0s 110ms/step - loss: 2.9226e-04 - accuracy: 1.0000 - val_loss: 5.2532 - val_accuracy: 0.4444\n",
            "Epoch 36/100\n",
            "2/2 [==============================] - 0s 104ms/step - loss: 2.3711e-04 - accuracy: 1.0000 - val_loss: 5.2906 - val_accuracy: 0.4444\n",
            "Epoch 37/100\n",
            "2/2 [==============================] - 0s 109ms/step - loss: 2.0988e-04 - accuracy: 1.0000 - val_loss: 5.3333 - val_accuracy: 0.4444\n",
            "Epoch 38/100\n",
            "2/2 [==============================] - 0s 133ms/step - loss: 1.8867e-04 - accuracy: 1.0000 - val_loss: 5.3783 - val_accuracy: 0.4444\n",
            "Epoch 39/100\n",
            "2/2 [==============================] - 0s 112ms/step - loss: 1.7431e-04 - accuracy: 1.0000 - val_loss: 5.4237 - val_accuracy: 0.4444\n",
            "Epoch 40/100\n",
            "2/2 [==============================] - 0s 86ms/step - loss: 1.6056e-04 - accuracy: 1.0000 - val_loss: 5.4682 - val_accuracy: 0.4444\n",
            "Epoch 41/100\n",
            "2/2 [==============================] - 0s 94ms/step - loss: 1.5278e-04 - accuracy: 1.0000 - val_loss: 5.5135 - val_accuracy: 0.4444\n",
            "Epoch 42/100\n",
            "2/2 [==============================] - 0s 101ms/step - loss: 1.4155e-04 - accuracy: 1.0000 - val_loss: 5.5559 - val_accuracy: 0.4444\n",
            "Epoch 43/100\n",
            "2/2 [==============================] - 0s 113ms/step - loss: 1.3529e-04 - accuracy: 1.0000 - val_loss: 5.5984 - val_accuracy: 0.4444\n",
            "Epoch 44/100\n",
            "2/2 [==============================] - 0s 104ms/step - loss: 1.2816e-04 - accuracy: 1.0000 - val_loss: 5.6394 - val_accuracy: 0.4444\n",
            "Epoch 45/100\n",
            "2/2 [==============================] - 0s 104ms/step - loss: 1.2227e-04 - accuracy: 1.0000 - val_loss: 5.6789 - val_accuracy: 0.4444\n",
            "Epoch 46/100\n",
            "2/2 [==============================] - 0s 105ms/step - loss: 1.1806e-04 - accuracy: 1.0000 - val_loss: 5.7177 - val_accuracy: 0.4444\n",
            "Epoch 47/100\n",
            "2/2 [==============================] - 0s 110ms/step - loss: 1.1260e-04 - accuracy: 1.0000 - val_loss: 5.7535 - val_accuracy: 0.4444\n",
            "Epoch 48/100\n",
            "2/2 [==============================] - 0s 111ms/step - loss: 1.0752e-04 - accuracy: 1.0000 - val_loss: 5.7864 - val_accuracy: 0.4444\n",
            "Epoch 49/100\n",
            "2/2 [==============================] - 0s 123ms/step - loss: 1.0235e-04 - accuracy: 1.0000 - val_loss: 5.8166 - val_accuracy: 0.4444\n",
            "Epoch 50/100\n",
            "2/2 [==============================] - 0s 118ms/step - loss: 9.9618e-05 - accuracy: 1.0000 - val_loss: 5.8462 - val_accuracy: 0.4444\n",
            "Epoch 51/100\n",
            "2/2 [==============================] - 0s 95ms/step - loss: 9.4680e-05 - accuracy: 1.0000 - val_loss: 5.8728 - val_accuracy: 0.4444\n",
            "Epoch 52/100\n",
            "2/2 [==============================] - 0s 72ms/step - loss: 9.2706e-05 - accuracy: 1.0000 - val_loss: 5.8985 - val_accuracy: 0.4444\n",
            "Epoch 53/100\n",
            "2/2 [==============================] - 0s 79ms/step - loss: 8.8965e-05 - accuracy: 1.0000 - val_loss: 5.9226 - val_accuracy: 0.4444\n",
            "Epoch 54/100\n",
            "2/2 [==============================] - 0s 67ms/step - loss: 8.6022e-05 - accuracy: 1.0000 - val_loss: 5.9447 - val_accuracy: 0.4444\n",
            "Epoch 55/100\n",
            "2/2 [==============================] - 0s 77ms/step - loss: 8.4005e-05 - accuracy: 1.0000 - val_loss: 5.9664 - val_accuracy: 0.4444\n",
            "Epoch 56/100\n",
            "2/2 [==============================] - 0s 62ms/step - loss: 8.0361e-05 - accuracy: 1.0000 - val_loss: 5.9863 - val_accuracy: 0.4444\n",
            "Epoch 57/100\n",
            "2/2 [==============================] - 0s 77ms/step - loss: 7.8616e-05 - accuracy: 1.0000 - val_loss: 6.0060 - val_accuracy: 0.4444\n",
            "Epoch 58/100\n",
            "2/2 [==============================] - 0s 75ms/step - loss: 7.6908e-05 - accuracy: 1.0000 - val_loss: 6.0250 - val_accuracy: 0.4444\n",
            "Epoch 59/100\n",
            "2/2 [==============================] - 0s 79ms/step - loss: 7.4186e-05 - accuracy: 1.0000 - val_loss: 6.0423 - val_accuracy: 0.4444\n",
            "Epoch 60/100\n",
            "2/2 [==============================] - 0s 91ms/step - loss: 7.2213e-05 - accuracy: 1.0000 - val_loss: 6.0589 - val_accuracy: 0.4444\n",
            "Epoch 61/100\n",
            "2/2 [==============================] - 0s 61ms/step - loss: 7.0345e-05 - accuracy: 1.0000 - val_loss: 6.0747 - val_accuracy: 0.4444\n",
            "Epoch 62/100\n",
            "2/2 [==============================] - 0s 66ms/step - loss: 6.8603e-05 - accuracy: 1.0000 - val_loss: 6.0902 - val_accuracy: 0.4444\n",
            "Epoch 63/100\n",
            "2/2 [==============================] - 0s 77ms/step - loss: 6.7300e-05 - accuracy: 1.0000 - val_loss: 6.1052 - val_accuracy: 0.4444\n",
            "Epoch 64/100\n",
            "2/2 [==============================] - 0s 64ms/step - loss: 6.5642e-05 - accuracy: 1.0000 - val_loss: 6.1193 - val_accuracy: 0.4444\n",
            "Epoch 65/100\n",
            "2/2 [==============================] - 0s 82ms/step - loss: 6.3733e-05 - accuracy: 1.0000 - val_loss: 6.1326 - val_accuracy: 0.4444\n",
            "Epoch 66/100\n",
            "2/2 [==============================] - 0s 86ms/step - loss: 6.2382e-05 - accuracy: 1.0000 - val_loss: 6.1463 - val_accuracy: 0.4444\n",
            "Epoch 67/100\n",
            "2/2 [==============================] - 0s 62ms/step - loss: 6.1331e-05 - accuracy: 1.0000 - val_loss: 6.1594 - val_accuracy: 0.4444\n",
            "Epoch 68/100\n",
            "2/2 [==============================] - 0s 83ms/step - loss: 5.9442e-05 - accuracy: 1.0000 - val_loss: 6.1718 - val_accuracy: 0.4444\n",
            "Epoch 69/100\n",
            "2/2 [==============================] - 0s 87ms/step - loss: 5.8554e-05 - accuracy: 1.0000 - val_loss: 6.1847 - val_accuracy: 0.4444\n",
            "Epoch 70/100\n",
            "2/2 [==============================] - 0s 84ms/step - loss: 5.7332e-05 - accuracy: 1.0000 - val_loss: 6.1971 - val_accuracy: 0.4444\n",
            "Epoch 71/100\n",
            "2/2 [==============================] - 0s 68ms/step - loss: 5.6454e-05 - accuracy: 1.0000 - val_loss: 6.2095 - val_accuracy: 0.4444\n",
            "Epoch 72/100\n",
            "2/2 [==============================] - 0s 63ms/step - loss: 5.5052e-05 - accuracy: 1.0000 - val_loss: 6.2213 - val_accuracy: 0.4444\n",
            "Epoch 73/100\n",
            "2/2 [==============================] - 0s 77ms/step - loss: 5.4021e-05 - accuracy: 1.0000 - val_loss: 6.2329 - val_accuracy: 0.4444\n",
            "Epoch 74/100\n",
            "2/2 [==============================] - 0s 76ms/step - loss: 5.3030e-05 - accuracy: 1.0000 - val_loss: 6.2450 - val_accuracy: 0.4444\n",
            "Epoch 75/100\n",
            "2/2 [==============================] - 0s 77ms/step - loss: 5.2036e-05 - accuracy: 1.0000 - val_loss: 6.2565 - val_accuracy: 0.4444\n",
            "Epoch 76/100\n",
            "2/2 [==============================] - 0s 74ms/step - loss: 5.1093e-05 - accuracy: 1.0000 - val_loss: 6.2681 - val_accuracy: 0.4444\n",
            "Epoch 77/100\n",
            "2/2 [==============================] - 0s 76ms/step - loss: 5.0055e-05 - accuracy: 1.0000 - val_loss: 6.2794 - val_accuracy: 0.4444\n",
            "Epoch 78/100\n",
            "2/2 [==============================] - 0s 76ms/step - loss: 4.9150e-05 - accuracy: 1.0000 - val_loss: 6.2901 - val_accuracy: 0.4444\n",
            "Epoch 79/100\n",
            "2/2 [==============================] - 0s 64ms/step - loss: 4.8489e-05 - accuracy: 1.0000 - val_loss: 6.3015 - val_accuracy: 0.4444\n",
            "Epoch 80/100\n",
            "2/2 [==============================] - 0s 75ms/step - loss: 4.7472e-05 - accuracy: 1.0000 - val_loss: 6.3122 - val_accuracy: 0.4444\n",
            "Epoch 81/100\n",
            "2/2 [==============================] - 0s 78ms/step - loss: 4.7019e-05 - accuracy: 1.0000 - val_loss: 6.3233 - val_accuracy: 0.4444\n",
            "Epoch 82/100\n",
            "2/2 [==============================] - 0s 63ms/step - loss: 4.6182e-05 - accuracy: 1.0000 - val_loss: 6.3341 - val_accuracy: 0.4444\n",
            "Epoch 83/100\n",
            "2/2 [==============================] - 0s 63ms/step - loss: 4.5388e-05 - accuracy: 1.0000 - val_loss: 6.3440 - val_accuracy: 0.4444\n",
            "Epoch 84/100\n",
            "2/2 [==============================] - 0s 76ms/step - loss: 4.4520e-05 - accuracy: 1.0000 - val_loss: 6.3539 - val_accuracy: 0.4444\n",
            "Epoch 85/100\n",
            "2/2 [==============================] - 0s 75ms/step - loss: 4.3829e-05 - accuracy: 1.0000 - val_loss: 6.3638 - val_accuracy: 0.4444\n",
            "Epoch 86/100\n",
            "2/2 [==============================] - 0s 61ms/step - loss: 4.3022e-05 - accuracy: 1.0000 - val_loss: 6.3735 - val_accuracy: 0.4444\n",
            "Epoch 87/100\n",
            "2/2 [==============================] - 0s 61ms/step - loss: 4.2427e-05 - accuracy: 1.0000 - val_loss: 6.3840 - val_accuracy: 0.4444\n",
            "Epoch 88/100\n",
            "2/2 [==============================] - 0s 74ms/step - loss: 4.2028e-05 - accuracy: 1.0000 - val_loss: 6.3943 - val_accuracy: 0.4444\n",
            "Epoch 89/100\n",
            "2/2 [==============================] - 0s 70ms/step - loss: 4.1249e-05 - accuracy: 1.0000 - val_loss: 6.4046 - val_accuracy: 0.4444\n",
            "Epoch 90/100\n",
            "2/2 [==============================] - 0s 66ms/step - loss: 4.0551e-05 - accuracy: 1.0000 - val_loss: 6.4148 - val_accuracy: 0.4444\n",
            "Epoch 91/100\n",
            "2/2 [==============================] - 0s 63ms/step - loss: 4.0187e-05 - accuracy: 1.0000 - val_loss: 6.4249 - val_accuracy: 0.4444\n",
            "Epoch 92/100\n",
            "2/2 [==============================] - 0s 75ms/step - loss: 3.9587e-05 - accuracy: 1.0000 - val_loss: 6.4349 - val_accuracy: 0.4444\n",
            "Epoch 93/100\n",
            "2/2 [==============================] - 0s 64ms/step - loss: 3.9022e-05 - accuracy: 1.0000 - val_loss: 6.4443 - val_accuracy: 0.4444\n",
            "Epoch 94/100\n",
            "2/2 [==============================] - 0s 60ms/step - loss: 3.8355e-05 - accuracy: 1.0000 - val_loss: 6.4529 - val_accuracy: 0.4444\n",
            "Epoch 95/100\n",
            "2/2 [==============================] - 0s 76ms/step - loss: 3.7824e-05 - accuracy: 1.0000 - val_loss: 6.4615 - val_accuracy: 0.4444\n",
            "Epoch 96/100\n",
            "2/2 [==============================] - 0s 76ms/step - loss: 3.7446e-05 - accuracy: 1.0000 - val_loss: 6.4705 - val_accuracy: 0.4444\n",
            "Epoch 97/100\n",
            "2/2 [==============================] - 0s 73ms/step - loss: 3.6854e-05 - accuracy: 1.0000 - val_loss: 6.4794 - val_accuracy: 0.4444\n",
            "Epoch 98/100\n",
            "2/2 [==============================] - 0s 78ms/step - loss: 3.6316e-05 - accuracy: 1.0000 - val_loss: 6.4878 - val_accuracy: 0.4444\n",
            "Epoch 99/100\n",
            "2/2 [==============================] - 0s 75ms/step - loss: 3.6023e-05 - accuracy: 1.0000 - val_loss: 6.4967 - val_accuracy: 0.4444\n",
            "Epoch 100/100\n",
            "2/2 [==============================] - 0s 69ms/step - loss: 3.5529e-05 - accuracy: 1.0000 - val_loss: 6.5053 - val_accuracy: 0.4444\n"
          ]
        }
      ]
    },
    {
      "cell_type": "code",
      "source": [
        "cleaned_text = \"more to table two\"\n",
        "sequence = tokenizer.texts_to_sequences([cleaned_text])\n",
        "padded_sequence = pad_sequences(sequence, maxlen=max_length)\n",
        "model.predict(padded_sequence)"
      ],
      "metadata": {
        "id": "AsaSKVGdHMxZ",
        "colab": {
          "base_uri": "https://localhost:8080/"
        },
        "outputId": "e61b3cc7-1770-45b5-9869-fedab3520901"
      },
      "execution_count": 23,
      "outputs": [
        {
          "output_type": "stream",
          "name": "stdout",
          "text": [
            "1/1 [==============================] - 0s 33ms/step\n"
          ]
        },
        {
          "output_type": "execute_result",
          "data": {
            "text/plain": [
              "array([[9.9670309e-01, 3.2969147e-03, 2.9936478e-10]], dtype=float32)"
            ]
          },
          "metadata": {},
          "execution_count": 23
        }
      ]
    },
    {
      "cell_type": "code",
      "source": [],
      "metadata": {
        "id": "e9fIhBc-iGqA"
      },
      "execution_count": null,
      "outputs": []
    }
  ]
}